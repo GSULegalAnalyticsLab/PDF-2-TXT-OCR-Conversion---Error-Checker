{
 "cells": [
  {
   "cell_type": "code",
   "execution_count": 6,
   "metadata": {},
   "outputs": [
    {
     "data": {
      "text/plain": [
       "\"The purpose of this code is to traverse a directory and convert any pdf files encountered to text. \\n\\nInput  =     The input for this code can either be a machine readable pdf or a scanned file (image). \\nOutput =     The output will be a text file whos file name is the same as the pdf's that was originally input. \\n\\nRequired Installations:\\n\\npytesseract = https://pypi.python.org/pypi/pytesseract\\nwand        = https://pypi.python.org/pypi/Wand\\nPillow      = https://pypi.python.org/pypi/Pillow/2.2.1\\nimagemagick = https://www.imagemagick.org/script/index.php\\n\\n\\nauthor:  Chris Cirelli 01/31/2018\\n\""
      ]
     },
     "execution_count": 6,
     "metadata": {},
     "output_type": "execute_result"
    }
   ],
   "source": [
    "'''The purpose of this code is to traverse a directory and convert any pdf files encountered to text. \n",
    "\n",
    "Input  =     The input for this code can either be a machine readable pdf or a scanned file (image). \n",
    "Output =     The output will be a text file whos file name is the same as the pdf's that was originally input. \n",
    "\n",
    "Required Installations:\n",
    "\n",
    "pytesseract = https://pypi.python.org/pypi/pytesseract\n",
    "wand        = https://pypi.python.org/pypi/Wand\n",
    "Pillow      = https://pypi.python.org/pypi/Pillow/2.2.1\n",
    "imagemagick = https://www.imagemagick.org/script/index.php\n",
    "\n",
    "\n",
    "author:  Chris Cirelli 01/31/2018\n",
    "'''\n"
   ]
  },
  {
   "cell_type": "code",
   "execution_count": null,
   "metadata": {
    "collapsed": true
   },
   "outputs": [],
   "source": []
  },
  {
   "cell_type": "code",
   "execution_count": null,
   "metadata": {
    "collapsed": true
   },
   "outputs": [],
   "source": [
    "# SET THE TARGET DIRECTORY AND DEFINE DIR_LIST"
   ]
  },
  {
   "cell_type": "code",
   "execution_count": 7,
   "metadata": {},
   "outputs": [],
   "source": [
    "'''The purpose of this code is to create the traget directory where the user's PDF files are located.\n",
    "   In addition, the object 'Dir_list' has been created, which is a list object with all of\n",
    "   the files in this directory.  This object will be used in most of the remaining code'''\n",
    "\n",
    "import os\n",
    "\n",
    "Target_dir = os.chdir('/Volumes/insight/Legal Analytics Sprint-S18/Team Folders/Team Wang/Chris/Classified Cases/PDF Image Poor Quality')\n",
    "Dir_list = os.listdir()"
   ]
  },
  {
   "cell_type": "code",
   "execution_count": null,
   "metadata": {},
   "outputs": [],
   "source": []
  },
  {
   "cell_type": "code",
   "execution_count": null,
   "metadata": {
    "collapsed": true
   },
   "outputs": [],
   "source": [
    "# TRAVERSE TARGET DIRECTORY AND IDENTIFY PDF DOCS"
   ]
  },
  {
   "cell_type": "code",
   "execution_count": 8,
   "metadata": {
    "collapsed": true
   },
   "outputs": [],
   "source": [
    "def get_list_pdf_Files(Target_dir, Dir_list):\n",
    "    '''The purpose of this function is to change to the correct working director & obtain list of pdf files\n",
    "    Input  = Target directory and Dir_list\n",
    "    Output = List object with only PDF files. \n",
    "    '''    \n",
    "    import os\n",
    "    \n",
    "    os.chdir(Target_dir)\n",
    "    # Iterate over the Dir_list and return only those files that contain '.pdf'\n",
    "    File_list = [x for x in Dir_list if '.pdf' in x]\n",
    "    \n",
    "    return File_list\n"
   ]
  },
  {
   "cell_type": "code",
   "execution_count": null,
   "metadata": {
    "collapsed": true
   },
   "outputs": [],
   "source": []
  },
  {
   "cell_type": "code",
   "execution_count": null,
   "metadata": {
    "collapsed": true
   },
   "outputs": [],
   "source": [
    "# CONVERT PDF IMAGES TO PNG FILES"
   ]
  },
  {
   "cell_type": "code",
   "execution_count": 10,
   "metadata": {
    "collapsed": true
   },
   "outputs": [],
   "source": [
    "def convert_pdf_to_png(Pdf_File):\n",
    "    \n",
    "    '''The purpose of this function is to convert each page of a pdf to a png file.\n",
    "    \n",
    "    Input  = The input is a single pdf file, which be either machine readable or an image. \n",
    "    Output = a png file for each page of the pdf. \n",
    "    '''\n",
    "    # Import pre-installed packages\n",
    "    from wand.image import Image\n",
    "    from wand.color import Color\n",
    "    \n",
    "    # Open the Pdf file as an image; set the resolution to 400 (assumed to be optimal resolution)\n",
    "    with Image(filename = Pdf_File, resolution = 400) as img:\n",
    "        # Align the image, set channel to blue - this turns the background to yellow, highlighting better black txt\n",
    "        img.evaluate(operator='rightshift', value=1, channel='blue')\n",
    "        # Adjust sharpness (this appears to help for poorer quality pdf images)\n",
    "        img.level(0.2, 0.9, gamma=1.1)\n",
    "        # Save the image to a file titled converted (this will be important for the directory cleaning function)\n",
    "        img.save(filename='converted1.jpg')\n",
    "        \n",
    "    return None\n",
    "        "
   ]
  },
  {
   "cell_type": "code",
   "execution_count": 18,
   "metadata": {},
   "outputs": [],
   "source": [
    "convert_pdf_to_png(Dir_list[3])   # Take a look in this directory.  I have saved a copy of the enhanced png file \n",
    "                                  # where you can compare it to the original pdf image. "
   ]
  },
  {
   "cell_type": "code",
   "execution_count": null,
   "metadata": {},
   "outputs": [],
   "source": []
  },
  {
   "cell_type": "code",
   "execution_count": null,
   "metadata": {
    "collapsed": true
   },
   "outputs": [],
   "source": [
    "# CONVERT PNG IMAGES TO A SINGLE TEXT DOCUMENT"
   ]
  },
  {
   "cell_type": "code",
   "execution_count": 26,
   "metadata": {
    "collapsed": true
   },
   "outputs": [],
   "source": [
    "def create_textFile_from_images(Pdf):\n",
    "    '''The purpose of this function is to convert each png file to text file and concatenate them into a single doc.  \n",
    "    Input  = Only the original pdf file from which the png files were created.  This will be used to create the\n",
    "             txt file name. \n",
    "    Output = A single text file generated from one or more png files. \n",
    "    \n",
    "    Note:  If write text generates a unicode error you'll need to set pytesseract config to only \n",
    "    recognize string characters.\n",
    "    config= \"-c tessedit_char_whitelist=0123456789abcdefghijklmnopqrstuvwxyzABCDEFGHIJKLMNOPQRSTUVWXYZ!#$%&*+,-.:;~`_=^<>?@(){}[]|/\\\\\\\"\\'' -psm 6\")\n",
    "    '''   \n",
    "    \n",
    "    # Import Packages\n",
    "    import PIL\n",
    "    import pytesseract\n",
    "    import os\n",
    "    \n",
    "    # Redefine Dir List within function. \n",
    "    Dir_list = os.listdir()\n",
    "    \n",
    "    # Drop '.pdf' from our original PDF's file name so that we can use this for the title of our txt file. \n",
    "    Pdf_file_name_remove_pdf = Pdf.replace('.pdf', '')\n",
    "    \n",
    "    # Create in write mode our new text file\n",
    "    New_File = open(Pdf_file_name_remove_pdf + '.txt','w')  \n",
    "\n",
    "    # Loop over the directory where we saved our png files.  Only pull those with 'converted' in title. \n",
    "    for file in Dir_list:\n",
    "        if 'converted' in file:      \n",
    "            # Use PIL to open the image\n",
    "            im = PIL.Image.open(file)\n",
    "            # Use Tesseract to convert the image to a string. \n",
    "            Text = pytesseract.image_to_string(im)           \n",
    "            # While within loop, and while our text file is in write mode, write string to new text file. \n",
    "            New_File.write(Text)\n",
    "\n",
    "    # Return none as this code writes directy to our target directory. \n",
    "    return None\n",
    "\n"
   ]
  },
  {
   "cell_type": "code",
   "execution_count": null,
   "metadata": {
    "collapsed": true
   },
   "outputs": [],
   "source": []
  },
  {
   "cell_type": "code",
   "execution_count": null,
   "metadata": {
    "collapsed": true
   },
   "outputs": [],
   "source": [
    "# CLEAN UP THE DINNER TABLE ONCE YOUR FINISHED"
   ]
  },
  {
   "cell_type": "code",
   "execution_count": 27,
   "metadata": {
    "collapsed": true
   },
   "outputs": [],
   "source": [
    "def cleanUpDir_remove_png():\n",
    "    '''The purpose of this function is to remove the png files created as part of the former functions\n",
    "    Input  = None\n",
    "    Output = None\n",
    "    '''\n",
    "    import os\n",
    "    \n",
    "    Dir_list = os.listdir()  # Needs to be called a second time after the files have been created. \n",
    "    \n",
    "    # Loop over our target directory and remove any png files.  \n",
    "    # Note:  remove any png files that you want to keep before running this code. \n",
    "    \n",
    "    for File in Dir_list:\n",
    "        if '.png' in File:\n",
    "            os.remove(File)\n",
    "    \n",
    "    return None"
   ]
  },
  {
   "cell_type": "code",
   "execution_count": null,
   "metadata": {
    "collapsed": true
   },
   "outputs": [],
   "source": []
  },
  {
   "cell_type": "code",
   "execution_count": null,
   "metadata": {
    "collapsed": true
   },
   "outputs": [],
   "source": [
    "# PIPELINE ALL OF THE FUNCTIONS TOGETHER"
   ]
  },
  {
   "cell_type": "code",
   "execution_count": 28,
   "metadata": {
    "collapsed": true
   },
   "outputs": [],
   "source": [
    "def directory_pdf_file_conversion_2text_pipeline(Target_dir):\n",
    "    '''The purpose of this function is to traverse a directory, identify all pdf files, convert them to text \n",
    "    and remove any png files. \n",
    "    Input  = Target directory where files are saved\n",
    "    Output  = A single text file with the same name as the pdf doc. \n",
    " \n",
    "    '''\n",
    "    \n",
    "    # Import Libraries\n",
    "    import os\n",
    "    # IMPORTANT:  Set MAGICK HOME to where it is saved on your harddrive. The code will not work unless you do this. \n",
    "    os.environ['MAGICK_HOME']='/usr/local/Cellar/imagemagick@6/6.9.9-31'\n",
    "\n",
    "    \n",
    "    # Define Dir List object\n",
    "    Dir_list = os.listdir()\n",
    "    \n",
    "    # Get List of pdf files\n",
    "    List_pdf_files = get_list_pdf_Files(Target_dir, Dir_list)       \n",
    "    \n",
    "    # Loop over list of pdf files:\n",
    "    for pdf in List_pdf_files:\n",
    "        \n",
    "        # Convert pdfs to png files\n",
    "        convert_pdf_to_png(pdf)\n",
    "        \n",
    "        # Create text files from images\n",
    "        create_textFile_from_images(pdf)\n",
    "        \n",
    "        # clean up the dinner table once your done. \n",
    "        cleanUpDir_remove_png()\n",
    "    \n",
    "    return None"
   ]
  },
  {
   "cell_type": "code",
   "execution_count": null,
   "metadata": {
    "collapsed": true
   },
   "outputs": [],
   "source": []
  },
  {
   "cell_type": "code",
   "execution_count": 19,
   "metadata": {
    "collapsed": true
   },
   "outputs": [],
   "source": [
    "# TEST CODE"
   ]
  },
  {
   "cell_type": "code",
   "execution_count": 31,
   "metadata": {
    "collapsed": true
   },
   "outputs": [],
   "source": [
    "directory_pdf_file_conversion_2text_pipeline(Target_dir)"
   ]
  },
  {
   "cell_type": "code",
   "execution_count": null,
   "metadata": {
    "collapsed": true
   },
   "outputs": [],
   "source": []
  },
  {
   "cell_type": "code",
   "execution_count": null,
   "metadata": {
    "collapsed": true
   },
   "outputs": [],
   "source": []
  },
  {
   "cell_type": "code",
   "execution_count": null,
   "metadata": {
    "collapsed": true
   },
   "outputs": [],
   "source": []
  },
  {
   "cell_type": "code",
   "execution_count": null,
   "metadata": {
    "collapsed": true
   },
   "outputs": [],
   "source": []
  },
  {
   "cell_type": "code",
   "execution_count": null,
   "metadata": {
    "collapsed": true
   },
   "outputs": [],
   "source": []
  },
  {
   "cell_type": "code",
   "execution_count": null,
   "metadata": {
    "collapsed": true
   },
   "outputs": [],
   "source": []
  }
 ],
 "metadata": {
  "kernelspec": {
   "display_name": "Python 3",
   "language": "python",
   "name": "python3"
  },
  "language_info": {
   "codemirror_mode": {
    "name": "ipython",
    "version": 3
   },
   "file_extension": ".py",
   "mimetype": "text/x-python",
   "name": "python",
   "nbconvert_exporter": "python",
   "pygments_lexer": "ipython3",
   "version": "3.6.1"
  }
 },
 "nbformat": 4,
 "nbformat_minor": 2
}
